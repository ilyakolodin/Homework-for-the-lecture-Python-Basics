{
 "cells": [
  {
   "cell_type": "markdown",
   "metadata": {},
   "source": [
    "Задание 1\n",
    "\n",
    "Даны 2 переменных, в которых хранятся строки произвольной длины: phrase_1 и phrase_2.\n",
    "Напишите код, который проверяет какая из этих строк длиннее."
   ]
  },
  {
   "cell_type": "code",
   "execution_count": null,
   "metadata": {},
   "outputs": [],
   "source": [
    "phrase_1 = 'Насколько проще было бы писать программы, если бы не заказчики'\n",
    "phrase_2 = '640Кб должно хватить для любых задач. Билл Гейтс (по легенде)'\n",
    "\n",
    "if len(phrase_1)>len(phrase_2):\n",
    "    print('Фраза 1 длиннее фразы 2')\n",
    "elif len(phrase_1)<len(phrase_2):\n",
    "    print('Фраза 2 длиннее фразы 1')\n",
    "else: print('Фразы равной длины')"
   ]
  },
  {
   "cell_type": "markdown",
   "metadata": {},
   "source": [
    "Задание 2\n",
    "\n",
    "Дана переменная, в которой хранится четырехзначное число (год). Необходимо написать программу, которая выведет, является ли данный год високосным или обычным."
   ]
  },
  {
   "cell_type": "code",
   "execution_count": 7,
   "metadata": {},
   "outputs": [
    {
     "name": "stdout",
     "output_type": "stream",
     "text": [
      "Високосный год\n"
     ]
    }
   ],
   "source": [
    "year = 2020\n",
    "\n",
    "if year%4==0: print('Високосный год')\n",
    "else: print('Обычный год')"
   ]
  },
  {
   "cell_type": "markdown",
   "metadata": {},
   "source": [
    "Задание 3\n",
    "\n",
    "Необходимо написать программу, которая будет запрашивать у пользователя месяц и дату рождения и выводить соответствующий знак зодиака."
   ]
  },
  {
   "cell_type": "code",
   "execution_count": 4,
   "metadata": {
    "scrolled": true
   },
   "outputs": [
    {
     "name": "stdout",
     "output_type": "stream",
     "text": [
      "Введите день: 1\n",
      "Введите месяц: Январь\n",
      "Ваш знак зодиака: Козерог\n"
     ]
    }
   ],
   "source": [
    "day=int(input('Введите день: '))\n",
    "month=input('Введите месяц: ')\n",
    "if month=='Январь' :\n",
    "    if day<=20:\n",
    "        z_sign='Козерог'\n",
    "    else: z_sign='Водолей'\n",
    "elif month=='Февраль' :\n",
    "    if day<=20:\n",
    "        z_sign='Водолей'\n",
    "    else: z_sign='Рыбы'\n",
    "elif month=='Март' :\n",
    "    if day<=20:\n",
    "        z_sign='Рыбы'\n",
    "    else: z_sign='Овен'\n",
    "elif month=='Апрель' :\n",
    "    if day<=20:\n",
    "        z_sign='Овен'\n",
    "    else: z_sign='Телец'    \n",
    "elif month=='Май' :\n",
    "    if day<=20:\n",
    "        z_sign='Телец'\n",
    "    else: z_sign='Близнецы'  \n",
    "elif month=='Июнь' :\n",
    "    if day<=21:\n",
    "        z_sign='Близнецы'\n",
    "    else: z_sign='Рак'  \n",
    "elif month=='Июль' :\n",
    "    if day<=22:\n",
    "        z_sign='Рак'\n",
    "    else: z_sign='Лев'  \n",
    "elif month=='Август' :\n",
    "    if day<=23:\n",
    "        z_sign='Лев'\n",
    "    else: z_sign='Дева'  \n",
    "elif month=='Сентябрь' :\n",
    "    if day<=23:\n",
    "        z_sign='Дева'\n",
    "    else: z_sign='Весы'  \n",
    "elif month=='Октябрь' :\n",
    "    if day<=23:\n",
    "        z_sign='Весы'\n",
    "    else: z_sign='Скорпион'  \n",
    "elif month=='Ноябрь' :\n",
    "    if day<=22:\n",
    "        z_sign='Скорпион'\n",
    "    else: z_sign='Стрелец'  \n",
    "elif month=='Декабрь' :\n",
    "    if day<=21:\n",
    "        z_sign='Стрелец'\n",
    "    else: z_sign='Козерог' \n",
    "print('Ваш знак зодиака: '+z_sign)"
   ]
  },
  {
   "cell_type": "markdown",
   "metadata": {},
   "source": [
    "Задание 4\n",
    "\n",
    "Вам нужно написать программу для подбора упаковок по размерам товара. Размеры хранятся в переменных (в сантиметрах):\n",
    "\n",
    "width = 10\n",
    "\n",
    "length = 205\n",
    "\n",
    "height = 5\n",
    "\n",
    "Используйте следующие правила:\n",
    "\n",
    "если каждое из трех измерений менее 15 сантиметров, то выведите на экран \"Коробка №1\";\n",
    "\n",
    "если хотя бы одно из измерений больше 15 сантиметров, но менее 50 сантиметров, то выводите \"Коробка №2\";\n",
    "\n",
    "если длина товара больше 2 метров, то выводите \"Упаковка для лыж\";\n",
    "\n",
    "во всех остальных случаях выводите \"Стандартная коробка №3\".\n"
   ]
  },
  {
   "cell_type": "code",
   "execution_count": 5,
   "metadata": {},
   "outputs": [
    {
     "name": "stdout",
     "output_type": "stream",
     "text": [
      "Упаковка для лыж\n"
     ]
    }
   ],
   "source": [
    "width = 10\n",
    "length = 205\n",
    "height = 5\n",
    "\n",
    "if width<15 and length<15 and height<15: print(\"Коробка №1\")\n",
    "elif 15<width<50 or 15<length<50 or 15<height<50:  print(\"Коробка №2\")\n",
    "elif length>200: print( \"Упаковка для лыж\")\n",
    "else: print(\"Стандартная коробка №3\")"
   ]
  },
  {
   "cell_type": "markdown",
   "metadata": {},
   "source": [
    "Задание 5 (необязательное)\n",
    "\n",
    "Дана переменная, в которой хранится шестизначное число (номер проездного билета). Напишите программу, которая будет определять, является ли данный билет \"счастливым\". Билет считается счастливым, если сумма первых трех цифр совпадает с суммой последних трех цифр номера."
   ]
  },
  {
   "cell_type": "code",
   "execution_count": 34,
   "metadata": {},
   "outputs": [
    {
     "name": "stdout",
     "output_type": "stream",
     "text": [
      "Счастливый билет\n"
     ]
    }
   ],
   "source": [
    "t_num = 123123\n",
    "t_num = str(t_num)\n",
    "sum_1=0\n",
    "sum_2=0\n",
    "for n in (t_num[:3]):\n",
    "    sum_1+=int(n)\n",
    "for n in (t_num[3:6]):\n",
    "    sum_2+=int(n)\n",
    "if sum_1==sum_2: print('Счастливый билет')\n",
    "else: print('Неасчастливый билет')"
   ]
  },
  {
   "cell_type": "markdown",
   "metadata": {},
   "source": [
    "Задание 6 (необязательное)\n",
    "\n",
    "Напишите программу, которая сможет вычислять площади трех фигур (круг, треугольник и прямоугольник). Тип фигуры запрашиваем через пользовательский ввод, после чего делаем запрос характеристик фигуры:\n",
    "\n",
    "если пользователь выбрал круг, запрашиваем его радиус,\n",
    "\n",
    "если треугольник – длины трех его сторон;\n",
    "\n",
    "если прямоугольник – длины двух его сторон.\n"
   ]
  },
  {
   "cell_type": "code",
   "execution_count": 38,
   "metadata": {},
   "outputs": [
    {
     "name": "stdout",
     "output_type": "stream",
     "text": [
      "фигура: круг\n",
      "радиус: 1\n",
      "3.14\n"
     ]
    }
   ],
   "source": [
    "fig=input('фигура: ')\n",
    "if fig=='треугольник':\n",
    "    a=float(input('a: '))\n",
    "    b=float(input('b: '))\n",
    "    c=float(input('c: '))\n",
    "    p=0.5*(a+b+c)\n",
    "    s=(p*(p-a)*(p-b)*(p-c))**(0.5)\n",
    "elif fig=='круг':\n",
    "    r=float(input('радиус: '))\n",
    "    s=3.14*r**2\n",
    "elif fig=='прямоугольник':\n",
    "    a=float(input('a: '))\n",
    "    b=float(input('b: '))\n",
    "    s=a*b\n",
    "print(s)"
   ]
  }
 ],
 "metadata": {
  "kernelspec": {
   "display_name": "Python 3",
   "language": "python",
   "name": "python3"
  },
  "language_info": {
   "codemirror_mode": {
    "name": "ipython",
    "version": 3
   },
   "file_extension": ".py",
   "mimetype": "text/x-python",
   "name": "python",
   "nbconvert_exporter": "python",
   "pygments_lexer": "ipython3",
   "version": "3.7.2"
  }
 },
 "nbformat": 4,
 "nbformat_minor": 2
}
